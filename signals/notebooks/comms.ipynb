{
 "cells": [
  {
   "cell_type": "code",
   "execution_count": 117,
   "metadata": {},
   "outputs": [],
   "source": [
    "# main imports\n",
    "import numpy as np\n",
    "import matplotlib.pyplot as plt"
   ]
  },
  {
   "attachments": {},
   "cell_type": "markdown",
   "metadata": {},
   "source": [
    "# Wireless Communications and SDRs\n",
    "**reference: <https://pysdr.org/content/intro.html>**\n",
    "\n",
    "Topics you can still cover:\n",
    "* Digital Modulation\n",
    "* Pulse Shaping\n",
    "* Link Budgets\n",
    "* Channel Encoding\n",
    "* Multipath Finding\n",
    "* Synchronization\n",
    "\n",
    "## Digital Modulation\n",
    "**reference: <https://pysdr.org/content/digital_modulation.html#>**\n",
    "\n",
    "## Pulse Shaping\n",
    "**reference: <https://pysdr.org/content/filters.html#intro-to-pulse-shaping>**"
   ]
  }
 ],
 "metadata": {
  "kernelspec": {
   "display_name": "Python 3",
   "language": "python",
   "name": "python3"
  },
  "language_info": {
   "codemirror_mode": {
    "name": "ipython",
    "version": 3
   },
   "file_extension": ".py",
   "mimetype": "text/x-python",
   "name": "python",
   "nbconvert_exporter": "python",
   "pygments_lexer": "ipython3",
   "version": "3.11.3"
  },
  "orig_nbformat": 4
 },
 "nbformat": 4,
 "nbformat_minor": 2
}
