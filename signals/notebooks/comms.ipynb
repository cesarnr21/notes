{
 "cells": [
  {
   "cell_type": "code",
   "execution_count": 117,
   "metadata": {},
   "outputs": [],
   "source": [
    "# main imports\n",
    "import numpy as np\n",
    "import matplotlib.pyplot as plt"
   ]
  },
  {
   "attachments": {},
   "cell_type": "markdown",
   "metadata": {},
   "source": [
    "# Wireless Communications and SDRs\n",
    "**reference: <https://pysdr.org/content/intro.html>**"
   ]
  },
  {
   "cell_type": "markdown",
   "metadata": {},
   "source": [
    "## Digital Modulation\n",
    "**reference: <https://pysdr.org/content/digital_modulation.html#>**\n",
    "\n",
    "The goal of modulation is fit as much data as possible in to the least amount of spectrum possible or **Spectral efficiency (bits/sec/Hz)**. The transmitted signal is made of up of **symbols** which carry some bits of information. Imagine sending 0's and 1's in a wire using high and low voltage, each symbol is one of those 0's or 1's.\n",
    "\n",
    "For more bits per symbol, you could have multiple voltage levels, like in the image below, where 250 Mbps are transmitted. (IEEE Ethernet Standard) Here, each sysmbol carries 2 bits per symbol.\n",
    "\n",
    "<p align=\"center\">\n",
    "  <img src=\"../assets/ethernet.png\" />\n",
    "</p>\n",
    "\n",
    "### Wireless symbols \n",
    "Wireless symbols are bit than the one above, a carrier frequency is used, and the modulation consists of modifying the properties of the signal:\n",
    "* Amplitude\n",
    "* Phase\n",
    "* Frequency\n",
    "\n",
    "**Some digital Modudation Schemes and some spin-offs**\n",
    "* Amplitude Shift Keying **(ASK)**: each symbol is represented by the amplitude of voltage\n",
    "    + 4-ASK, 4 levels of amplitude, each symbol carries 2 bits of information\n",
    "\n",
    "<p align=\"center\">\n",
    "  <img src=\"../assets/ask.png\" />\n",
    "</p>\n",
    "\n",
    "\n",
    "* Phase Shift Keying **(PSK)**: modify the phase of each symbol\n",
    "    + Binary PSK (BPSK): each symbol is either at 0 or 180 degress\n",
    "    + Quadrature PSK (QPSK): 4 different phases, usually 0, 90, 180, 270 degrees\n",
    "\n",
    "<p align=\"center\">\n",
    "  <img src=\"../assets/psk.png\" />\n",
    "</p>\n",
    "\n",
    "\n",
    "* Quadrature Amplitude Modulation **(QAM)**: combination of PSK and ASK\n",
    "    + 16QAM: 16 sysmbols in IQ plot\n",
    "\n",
    "<p align=\"center\">\n",
    "  <img src=\"../assets/qam.png\" />\n",
    "</p>\n",
    "\n",
    "* Frequency Shift Keying **(FSK)**: shifts between frequencies to modulate signals\n",
    "\n",
    "<p align=\"center\">\n",
    "  <img src=\"../assets/fsk.png\" />\n",
    "</p>\n"
   ]
  },
  {
   "cell_type": "markdown",
   "metadata": {},
   "source": [
    "## Error Bit Rate and Error Correction"
   ]
  }
 ],
 "metadata": {
  "kernelspec": {
   "display_name": "Python 3",
   "language": "python",
   "name": "python3"
  },
  "language_info": {
   "codemirror_mode": {
    "name": "ipython",
    "version": 3
   },
   "file_extension": ".py",
   "mimetype": "text/x-python",
   "name": "python",
   "nbconvert_exporter": "python",
   "pygments_lexer": "ipython3",
   "version": "3.11.3"
  },
  "orig_nbformat": 4
 },
 "nbformat": 4,
 "nbformat_minor": 2
}
