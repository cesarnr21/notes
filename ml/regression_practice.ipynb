{
 "cells": [
  {
   "cell_type": "markdown",
   "metadata": {},
   "source": [
    "# Regression Lesson/Practice\n",
    "\n",
    "Practice the lessons from Regression (both linear and logistic)\n",
    "\n",
    "Tasks:\n",
    "* Use a [housing market dataset](https://www.kaggle.com/datasets/camnugent/california-housing-prices)\n",
    "* Use part of it to train two models, a **linear regression** and **logistic regression**\n",
    "* Apply **gradient decent** to find the best model\n",
    "* verify the accuracy and compare and using the evaluation methods\n"
   ]
  },
  {
   "cell_type": "code",
   "execution_count": null,
   "metadata": {},
   "outputs": [],
   "source": [
    "%load_ext autoreload\n",
    "%autoreload 2\n",
    "%matplotlib widget"
   ]
  },
  {
   "cell_type": "code",
   "execution_count": 7,
   "metadata": {},
   "outputs": [],
   "source": [
    "import numpy as n\n",
    "import matplotlib.pyplot as plt\n",
    "import kaggle\n",
    "import pandas as pd\n",
    "import os\n",
    "from pathlib import Path\n",
    "\n",
    "# set KAGGLE_USERNAME and KAGGLE_KEY enviroment variables\n",
    "kaggle.api.authenticate()"
   ]
  },
  {
   "cell_type": "code",
   "execution_count": 11,
   "metadata": {},
   "outputs": [],
   "source": [
    "# download and load data\n",
    "data_path = Path('/tmp/housing')\n",
    "kaggle.api.dataset_download_files(dataset='camnugent/California-Housing-Prices', path=data_path, unzip=True)\n",
    "file = data_path / 'housing.csv'\n",
    "\n",
    "housing_data = pd.read_csv(file)"
   ]
  }
 ],
 "metadata": {
  "kernelspec": {
   "display_name": "Python 3",
   "language": "python",
   "name": "python3"
  },
  "language_info": {
   "codemirror_mode": {
    "name": "ipython",
    "version": 3
   },
   "file_extension": ".py",
   "mimetype": "text/x-python",
   "name": "python",
   "nbconvert_exporter": "python",
   "pygments_lexer": "ipython3",
   "version": "3.9.6"
  },
  "orig_nbformat": 4
 },
 "nbformat": 4,
 "nbformat_minor": 2
}
