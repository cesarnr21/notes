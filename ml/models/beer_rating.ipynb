{
 "cells": [
  {
   "cell_type": "markdown",
   "metadata": {},
   "source": [
    "## Midterm/Mini Project: Beer Rating Machine Learning Model\n",
    "**Cesar Nunez Rodriguez**  \n",
    "**ECE 5400: Applied Machine Learning**\n",
    "\n"
   ]
  },
  {
   "cell_type": "code",
   "execution_count": 1,
   "metadata": {},
   "outputs": [
    {
     "name": "stdout",
     "output_type": "stream",
     "text": [
      "Parsing Data...\n",
      "Acquiring Data...\n",
      "Data Acquired\n",
      "Data Parsed\n",
      "Adding Features...\n",
      "Features Added\n",
      "Splitting Data...\n",
      "Data Split\n",
      "Making Predictions...\n",
      "Predictions Made\n",
      "Mean Average Percentage Error = 9.36%\n"
     ]
    },
    {
     "name": "stderr",
     "output_type": "stream",
     "text": [
      "/var/folders/cn/dvcftkq93l34cpbdzlzxjlhr0000gn/T/ipykernel_4860/3732185760.py:41: FutureWarning: `rcond` parameter will change to the default of machine precision times ``max(M, N)`` where M and N are the input matrix dimensions.\n",
      "To use the future default and silence this warning we advise to pass `rcond=None`, to keep using the old, explicitly pass `rcond=-1`.\n",
      "  theta, residuals, rank, s = numpy.linalg.lstsq(X_train, y_train)\n"
     ]
    }
   ],
   "source": [
    "\n",
    "import numpy\n",
    "import urllib.request\n",
    "import sklearn\n",
    "\n",
    "from sklearn.model_selection import train_test_split\n",
    "\n",
    "url = \"https://www.ece.villanova.edu/~xjiao/course/ECE5400/dataset/beer_50000.json\"\n",
    "\n",
    "def parse_data(fname):\n",
    "    print(\"Acquiring Data...\")\n",
    "    for l in urllib.request.urlopen(fname):\n",
    "        yield eval(l)\n",
    "    print(\"Data Acquired\")\n",
    "\n",
    "print(\"Parsing Data...\")\n",
    "data = list(parse_data(url))\n",
    "print(\"Data Parsed\")\n",
    "\n",
    "# still need to add the other features here\n",
    "data2 = [d for d in data if 'user/ageInSeconds'  in d and 'review/palate' in d \\\n",
    "    and 'beer/ABV' in d and 'review/taste' in d and 'review/timeUnix' in d and 'review/aroma' in d]\n",
    "\n",
    "def feature(datum):\n",
    "    feat = [1]\n",
    "    feat.append(datum['user/ageInSeconds'])\n",
    "    feat.append(datum['review/palate'])\n",
    "    feat.append(datum['beer/ABV'])\n",
    "    feat.append(datum['review/taste'])\n",
    "    feat.append(datum['review/timeUnix'])\n",
    "    feat.append(datum['review/aroma'])\n",
    "    return feat\n",
    "\n",
    "print(\"Adding Features...\")\n",
    "x = [feature(d) for d in data2]\n",
    "print(\"Features Added\")\n",
    "y = [d['review/overall'] for d in data2]\n",
    "\n",
    "print(\"Splitting Data...\")\n",
    "X_train, X_test, y_train, y_test = sklearn.model_selection.train_test_split(x, y, \\\n",
    "    test_size = 0.2, train_size = 0.8, random_state = None, shuffle = True, stratify = None)\n",
    "theta, residuals, rank, s = numpy.linalg.lstsq(X_train, y_train)\n",
    "print(\"Data Split\")\n",
    "\n",
    "print(\"Making Predictions...\")\n",
    "prediction = [sum(i * theta) for i in X_test]\n",
    "print(\"Predictions Made\")\n",
    "\n",
    "# Mean Average Percentage Error\n",
    "def MAPE(actual, prediction):\n",
    "    result = 0\n",
    "    for i in range(len(actual)):\n",
    "        val = abs((actual[i] -  prediction[i]) / actual[i])\n",
    "        result = result + val\n",
    "\n",
    "    result = result / len(actual)\n",
    "    return result * 100\n",
    "\n",
    "print('Mean Average Percentage Error = %2.2f' %(MAPE(y_test, prediction)) + '%')\n"
   ]
  }
 ],
 "metadata": {
  "interpreter": {
   "hash": "31f2aee4e71d21fbe5cf8b01ff0e069b9275f58929596ceb00d14d90e3e16cd6"
  },
  "kernelspec": {
   "display_name": "Python 3.8.9 64-bit",
   "language": "python",
   "name": "python3"
  },
  "language_info": {
   "codemirror_mode": {
    "name": "ipython",
    "version": 3
   },
   "file_extension": ".py",
   "mimetype": "text/x-python",
   "name": "python",
   "nbconvert_exporter": "python",
   "pygments_lexer": "ipython3",
   "version": "3.9.10"
  },
  "orig_nbformat": 4
 },
 "nbformat": 4,
 "nbformat_minor": 2
}
