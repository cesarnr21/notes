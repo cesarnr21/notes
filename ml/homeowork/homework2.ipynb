{
 "cells": [
  {
   "cell_type": "markdown",
   "metadata": {},
   "source": [
    "## Homework 2\n",
    "**Cesar Nunez Rodriguez**  \n",
    "**ECE 5400: Applied Machine Learning**\n",
    "\n",
    "**Questions 1 and 2:**\n",
    "Can you calculate the value of the cost function for each of these two models? Based on the cost function result, can you indicate which model fits the training data better?"
   ]
  },
  {
   "cell_type": "code",
   "execution_count": 1,
   "metadata": {},
   "outputs": [
    {
     "name": "stdout",
     "output_type": "stream",
     "text": [
      "Value of Cost Function for Model 1: 21555345.83\n",
      "Value of Cost Function for Model 2: 52934494.44\n"
     ]
    }
   ],
   "source": [
    "# data given\n",
    "vehicle = [\"Acura MDX\", \"Honda Acord\", \"Honda Civic\", \"Honda Civic\", \"Nissan Altima\", \"Acura MDX\", \"Lexus RX350\", \"Toyota Prius\", \"Toyota Prius\"]\n",
    "luxury = [1, 0, 0, 0, 0, 1, 1, 0, 0]\n",
    "year = [2017, 2017, 2012, 2016, 2016, 2015, 2015, 2014, 2013]\n",
    "mpg = [20, 25, 23, 24, 30, 18, 21, 45, 40]\n",
    "horsepower = [290, 190, 160, 170, 180, 280, 270, 120, 120]\n",
    "actual_price = [50000, 25000, 10000, 18000, 25000, 38000, 40000, 28000, 24000]\n",
    "\n",
    "# calculations\n",
    "n = len(vehicle)\n",
    "\n",
    "def model_1(luxury, year, mpg, horsepower):\n",
    "    price = (1000 * luxury) + (5 * year) + (100 * mpg) + (150 * horsepower) - 15000\n",
    "    return price\n",
    "\n",
    "def model_2(luxury, year, mpg, horsepower):\n",
    "    price = (900 * luxury) + (10 * year) + (80 * mpg) + (120 * horsepower) - 10000\n",
    "    return price\n",
    "\n",
    "def cost_function(model):\n",
    "    result = 0\n",
    "    for i in range(n):\n",
    "        val = (actual_price[i] - model(luxury[i], year[i], mpg[i], horsepower[i])) ** 2\n",
    "        result = result + val\n",
    "\n",
    "    result = result / (2 * n)\n",
    "    return result\n",
    "\n",
    "# print results\n",
    "print('Value of Cost Function for Model 1: %10.2f' %(cost_function(model_1)))\n",
    "print('Value of Cost Function for Model 2: %10.2f' %(cost_function(model_2)))\n"
   ]
  },
  {
   "cell_type": "markdown",
   "metadata": {},
   "source": [
    "As seen above, Model 1 has a lower value of cost function than Model 2, and therefore it fits the actual data better\n",
    "\n",
    "-------------\n",
    "\n",
    "**Question 3:**\n",
    "Can you find a better model than these two? If yes, please write down the new hθ (x), and show its cost function value.\n",
    "- Here  is a new model with lower Cost Function value: `hθ(x) = (1000∗x1) + (5∗x2) + (100∗x3) + (150∗x3) − 13500`"
   ]
  },
  {
   "cell_type": "code",
   "execution_count": 2,
   "metadata": {},
   "outputs": [
    {
     "name": "stdout",
     "output_type": "stream",
     "text": [
      "Value of Cost Function for the New Model: 21392845.83\n"
     ]
    }
   ],
   "source": [
    "def new_model(luxury, year, mpg, horsepower):\n",
    "    price = (1000 * luxury) + (5 * year) + (100 * mpg) + (150 * horsepower) - 13500\n",
    "    return price\n",
    "\n",
    "print('Value of Cost Function for the New Model: %10.2f' %(cost_function(new_model)))\n"
   ]
  }
 ],
 "metadata": {
  "interpreter": {
   "hash": "31f2aee4e71d21fbe5cf8b01ff0e069b9275f58929596ceb00d14d90e3e16cd6"
  },
  "kernelspec": {
   "display_name": "Python 3.8.9 64-bit",
   "language": "python",
   "name": "python3"
  },
  "language_info": {
   "codemirror_mode": {
    "name": "ipython",
    "version": 3
   },
   "file_extension": ".py",
   "mimetype": "text/x-python",
   "name": "python",
   "nbconvert_exporter": "python",
   "pygments_lexer": "ipython3",
   "version": "3.8.9"
  },
  "orig_nbformat": 4
 },
 "nbformat": 4,
 "nbformat_minor": 2
}
