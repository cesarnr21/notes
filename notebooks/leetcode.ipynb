{
 "cells": [
  {
   "cell_type": "markdown",
   "metadata": {},
   "source": [
    "# Leetcode Problems"
   ]
  },
  {
   "cell_type": "markdown",
   "metadata": {},
   "source": [
    "### Two Sum\n",
    "Given an array of integers nums and an integer target, return indices of the two numbers such that they add up to target.\n",
    "You may assume that each input would have exactly one solution, and you may not use the same element twice.\n",
    "You can return the answer in any order."
   ]
  },
  {
   "cell_type": "code",
   "execution_count": 3,
   "metadata": {},
   "outputs": [
    {
     "name": "stdout",
     "output_type": "stream",
     "text": [
      "[0, 2]\n"
     ]
    }
   ],
   "source": [
    "def answer(test):\n",
    "    if test == 1:\n",
    "        nums = [2, 7, 11, 15]\n",
    "        target = 9\n",
    "        def two_sum(num: list[int], target: int) -> list[int]:\n",
    "            for i in num:\n",
    "                for x in num:\n",
    "                    if (i + x) == target and num.index(i) != num.index(x):\n",
    "                        return [num.index(i), num.index(x)]\n",
    "\n",
    "\n",
    "    else:\n",
    "        nums = [4, 1, 2, 3]\n",
    "        target = 6\n",
    "        def two_sum(num: list[int], target: int) -> list[int]:\n",
    "            for i in range(len(num)):\n",
    "                for x in range(len(num)):\n",
    "                    if (nums[i] + nums [x]) == target and i != x:\n",
    "                        return [i, x]\n",
    "\n",
    "    return two_sum(nums, target)\n",
    "\n",
    "\n",
    "test = 2\n",
    "\n",
    "print(answer(test))\n"
   ]
  },
  {
   "cell_type": "markdown",
   "metadata": {},
   "source": [
    "### print every other character in string"
   ]
  },
  {
   "cell_type": "code",
   "execution_count": 2,
   "metadata": {},
   "outputs": [
    {
     "name": "stdout",
     "output_type": "stream",
     "text": [
      "hue\n"
     ]
    }
   ],
   "source": [
    "string = 'house'\n",
    "new_string = []\n",
    "\n",
    "for i, value in enumerate(string):\n",
    "    if (i%2) == 0:\n",
    "        new_string.append(value)\n",
    "\n",
    "new_string = \"\".join(new_string)\n",
    "print(new_string)\n"
   ]
  }
 ],
 "metadata": {
  "kernelspec": {
   "display_name": "Python 3.10.6 64-bit",
   "language": "python",
   "name": "python3"
  },
  "language_info": {
   "codemirror_mode": {
    "name": "ipython",
    "version": 3
   },
   "file_extension": ".py",
   "mimetype": "text/x-python",
   "name": "python",
   "nbconvert_exporter": "python",
   "pygments_lexer": "ipython3",
   "version": "3.10.6"
  },
  "orig_nbformat": 4,
  "vscode": {
   "interpreter": {
    "hash": "b0fa6594d8f4cbf19f97940f81e996739fb7646882a419484c72d19e05852a7e"
   }
  }
 },
 "nbformat": 4,
 "nbformat_minor": 2
}
